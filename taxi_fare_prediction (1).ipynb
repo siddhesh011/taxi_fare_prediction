{
  "cells": [
    {
      "cell_type": "code",
      "execution_count": null,
      "metadata": {
        "id": "IWyBPG5ldAvM"
      },
      "outputs": [],
      "source": [
        "!apt-get install openjdk-8-jdk-headless -qq > /dev/null\n",
        "!wget -q https://archive.apache.org/dist/spark/spark-3.2.0/spark-3.2.0-bin-hadoop3.2.tgz\n",
        "!tar xf spark-3.2.0-bin-hadoop3.2.tgz\n",
        "!pip install -q findspark"
      ]
    },
    {
      "cell_type": "code",
      "execution_count": null,
      "metadata": {
        "id": "ZXAvCX-sdHs9"
      },
      "outputs": [],
      "source": [
        "import os\n",
        "os.environ[\"JAVA_HOME\"] = \"/usr/lib/jvm/java-8-openjdk-amd64\"\n",
        "os.environ[\"SPARK_HOME\"] = \"spark-3.2.0-bin-hadoop3.2\""
      ]
    },
    {
      "cell_type": "code",
      "source": [
        "import time\n",
        "import pandas as pd\n",
        "from pyspark.ml.regression import LinearRegression\n",
        "from pyspark.ml.feature import VectorAssembler\n",
        "from pyspark.ml.feature import StandardScaler\n",
        "from pyspark.ml import Pipeline\n",
        "from pyspark.ml.tuning import ParamGridBuilder, CrossValidator\n",
        "from pyspark.ml.evaluation import RegressionEvaluator\n",
        "from pyspark.sql.functions import hour, minute"
      ],
      "metadata": {
        "id": "T4_Yo8tCkqNE"
      },
      "execution_count": null,
      "outputs": []
    },
    {
      "cell_type": "code",
      "execution_count": null,
      "metadata": {
        "id": "4z2jx1FFLYme",
        "colab": {
          "base_uri": "https://localhost:8080/"
        },
        "outputId": "e20d1b6e-d78c-47c2-c0aa-c6330db8dcbb"
      },
      "outputs": [
        {
          "output_type": "stream",
          "name": "stdout",
          "text": [
            "SHELL = /bin/bash\n",
            "NV_LIBCUBLAS_VERSION = 11.11.3.6-1\n",
            "NVIDIA_VISIBLE_DEVICES = all\n",
            "COLAB_JUPYTER_TRANSPORT = ipc\n",
            "NV_NVML_DEV_VERSION = 11.8.86-1\n",
            "NV_CUDNN_PACKAGE_NAME = libcudnn8\n",
            "CGROUP_MEMORY_EVENTS = /sys/fs/cgroup/memory.events /var/colab/cgroup/jupyter-children/memory.events\n",
            "NV_LIBNCCL_DEV_PACKAGE = libnccl-dev=2.15.5-1+cuda11.8\n",
            "NV_LIBNCCL_DEV_PACKAGE_VERSION = 2.15.5-1\n",
            "VM_GCE_METADATA_HOST = 169.254.169.253\n",
            "HOSTNAME = a9669415dba2\n",
            "LANGUAGE = en_US\n",
            "TBE_RUNTIME_ADDR = 172.28.0.1:8011\n",
            "GCE_METADATA_TIMEOUT = 3\n",
            "NVIDIA_REQUIRE_CUDA = cuda>=11.8 brand=tesla,driver>=450,driver<451 brand=tesla,driver>=470,driver<471 brand=unknown,driver>=470,driver<471 brand=nvidia,driver>=470,driver<471 brand=nvidiartx,driver>=470,driver<471 brand=geforce,driver>=470,driver<471 brand=geforcertx,driver>=470,driver<471 brand=quadro,driver>=470,driver<471 brand=quadrortx,driver>=470,driver<471 brand=titan,driver>=470,driver<471 brand=titanrtx,driver>=470,driver<471 brand=tesla,driver>=510,driver<511 brand=unknown,driver>=510,driver<511 brand=nvidia,driver>=510,driver<511 brand=nvidiartx,driver>=510,driver<511 brand=geforce,driver>=510,driver<511 brand=geforcertx,driver>=510,driver<511 brand=quadro,driver>=510,driver<511 brand=quadrortx,driver>=510,driver<511 brand=titan,driver>=510,driver<511 brand=titanrtx,driver>=510,driver<511 brand=tesla,driver>=515,driver<516 brand=unknown,driver>=515,driver<516 brand=nvidia,driver>=515,driver<516 brand=nvidiartx,driver>=515,driver<516 brand=geforce,driver>=515,driver<516 brand=geforcertx,driver>=515,driver<516 brand=quadro,driver>=515,driver<516 brand=quadrortx,driver>=515,driver<516 brand=titan,driver>=515,driver<516 brand=titanrtx,driver>=515,driver<516\n",
            "NV_LIBCUBLAS_DEV_PACKAGE = libcublas-dev-11-8=11.11.3.6-1\n",
            "NV_NVTX_VERSION = 11.8.86-1\n",
            "COLAB_JUPYTER_IP = 172.28.0.12\n",
            "NV_CUDA_CUDART_DEV_VERSION = 11.8.89-1\n",
            "NV_LIBCUSPARSE_VERSION = 11.7.5.86-1\n",
            "COLAB_LANGUAGE_SERVER_PROXY_ROOT_URL = http://172.28.0.1:8013/\n",
            "NV_LIBNPP_VERSION = 11.8.0.86-1\n",
            "NCCL_VERSION = 2.15.5-1\n",
            "KMP_LISTEN_PORT = 6000\n",
            "TF_FORCE_GPU_ALLOW_GROWTH = true\n",
            "ENV = /root/.bashrc\n",
            "PWD = /\n",
            "COLAB_LANGUAGE_SERVER_PROXY_REQUEST_TIMEOUT = 30s\n",
            "TBE_EPHEM_CREDS_ADDR = 172.28.0.1:8009\n",
            "TBE_CREDS_ADDR = 172.28.0.1:8008\n",
            "NV_CUDNN_PACKAGE = libcudnn8=8.9.0.131-1+cuda11.8\n",
            "NVIDIA_DRIVER_CAPABILITIES = compute,utility\n",
            "COLAB_JUPYTER_TOKEN = \n",
            "LAST_FORCED_REBUILD = 20231018\n",
            "NV_NVPROF_DEV_PACKAGE = cuda-nvprof-11-8=11.8.87-1\n",
            "NV_LIBNPP_PACKAGE = libnpp-11-8=11.8.0.86-1\n",
            "NV_LIBNCCL_DEV_PACKAGE_NAME = libnccl-dev\n",
            "TCLLIBPATH = /usr/share/tcltk/tcllib1.20\n",
            "NV_LIBCUBLAS_DEV_VERSION = 11.11.3.6-1\n",
            "NVIDIA_PRODUCT_NAME = CUDA\n",
            "COLAB_KERNEL_MANAGER_PROXY_HOST = 172.28.0.12\n",
            "NV_LIBCUBLAS_DEV_PACKAGE_NAME = libcublas-dev-11-8\n",
            "NV_CUDA_CUDART_VERSION = 11.8.89-1\n",
            "COLAB_WARMUP_DEFAULTS = 1\n",
            "HOME = /root\n",
            "LANG = en_US.UTF-8\n",
            "COLUMNS = 100\n",
            "CUDA_VERSION = 11.8.0\n",
            "CLOUDSDK_CONFIG = /content/.config\n",
            "NV_LIBCUBLAS_PACKAGE = libcublas-11-8=11.11.3.6-1\n",
            "NV_CUDA_NSIGHT_COMPUTE_DEV_PACKAGE = cuda-nsight-compute-11-8=11.8.0-1\n",
            "COLAB_RELEASE_TAG = release-colab_20231019-090936_RC00\n",
            "KMP_TARGET_PORT = 9000\n",
            "KMP_EXTRA_ARGS = --logtostderr --listen_host=172.28.0.12 --target_host=172.28.0.12 --tunnel_background_save_url=https://colab.research.google.com/tun/m/cc48301118ce562b961b3c22d803539adc1e0c19/m-s-2msc28n9uadps --tunnel_background_save_delay=10s --tunnel_periodic_background_save_frequency=30m0s --enable_output_coalescing=true --output_coalescing_required=true\n",
            "NV_LIBNPP_DEV_PACKAGE = libnpp-dev-11-8=11.8.0.86-1\n",
            "COLAB_LANGUAGE_SERVER_PROXY_LSP_DIRS = /datalab/web/pyright/typeshed-fallback/stdlib,/usr/local/lib/python3.10/dist-packages\n",
            "NV_LIBCUBLAS_PACKAGE_NAME = libcublas-11-8\n",
            "COLAB_KERNEL_MANAGER_PROXY_PORT = 6000\n",
            "CLOUDSDK_PYTHON = python3\n",
            "NV_LIBNPP_DEV_VERSION = 11.8.0.86-1\n",
            "NO_GCE_CHECK = False\n",
            "PYTHONPATH = /env/python\n",
            "NV_LIBCUSPARSE_DEV_VERSION = 11.7.5.86-1\n",
            "LIBRARY_PATH = /usr/local/cuda/lib64/stubs\n",
            "NV_CUDNN_VERSION = 8.9.0.131\n",
            "SHLVL = 0\n",
            "NV_CUDA_LIB_VERSION = 11.8.0-1\n",
            "COLAB_LANGUAGE_SERVER_PROXY = /usr/colab/bin/language_service\n",
            "NVARCH = x86_64\n",
            "NV_CUDNN_PACKAGE_DEV = libcudnn8-dev=8.9.0.131-1+cuda11.8\n",
            "NV_CUDA_COMPAT_PACKAGE = cuda-compat-11-8\n",
            "NV_LIBNCCL_PACKAGE = libnccl2=2.15.5-1+cuda11.8\n",
            "LD_LIBRARY_PATH = /usr/local/nvidia/lib:/usr/local/nvidia/lib64\n",
            "COLAB_GPU = \n",
            "NV_CUDA_NSIGHT_COMPUTE_VERSION = 11.8.0-1\n",
            "GCS_READ_CACHE_BLOCK_SIZE_MB = 16\n",
            "NV_NVPROF_VERSION = 11.8.87-1\n",
            "LC_ALL = en_US.UTF-8\n",
            "COLAB_FILE_HANDLER_ADDR = localhost:3453\n",
            "PATH = /opt/bin:/usr/local/nvidia/bin:/usr/local/cuda/bin:/usr/local/sbin:/usr/local/bin:/usr/sbin:/usr/bin:/sbin:/bin:/tools/node/bin:/tools/google-cloud-sdk/bin\n",
            "NV_LIBNCCL_PACKAGE_NAME = libnccl2\n",
            "COLAB_DEBUG_ADAPTER_MUX_PATH = /usr/local/bin/dap_multiplexer\n",
            "NV_LIBNCCL_PACKAGE_VERSION = 2.15.5-1\n",
            "PYTHONWARNINGS = ignore:::pip._internal.cli.base_command\n",
            "DEBIAN_FRONTEND = noninteractive\n",
            "COLAB_BACKEND_VERSION = next\n",
            "OLDPWD = /\n",
            "JPY_PARENT_PID = 72\n",
            "TERM = xterm-color\n",
            "CLICOLOR = 1\n",
            "PAGER = cat\n",
            "GIT_PAGER = cat\n",
            "MPLBACKEND = module://ipykernel.pylab.backend_inline\n",
            "ENABLE_DIRECTORYPREFETCHER = 1\n",
            "USE_AUTH_EPHEM = 1\n",
            "PYDEVD_USE_FRAME_EVAL = NO\n",
            "JAVA_HOME = /usr/lib/jvm/java-8-openjdk-amd64\n",
            "SPARK_HOME = spark-3.2.0-bin-hadoop3.2\n"
          ]
        }
      ],
      "source": [
        "for key, value in os.environ.items():\n",
        "    print(f'{key} = {value}')"
      ]
    },
    {
      "cell_type": "code",
      "execution_count": null,
      "metadata": {
        "id": "-SNOYpcodIi1"
      },
      "outputs": [],
      "source": [
        "import findspark\n",
        "findspark.init()"
      ]
    },
    {
      "cell_type": "code",
      "execution_count": null,
      "metadata": {
        "id": "N68oQ7-wdLRm"
      },
      "outputs": [],
      "source": [
        "from pyspark.sql import SparkSession\n",
        "spark = SparkSession.builder.master(\"local[*]\").getOrCreate()"
      ]
    },
    {
      "cell_type": "code",
      "execution_count": null,
      "metadata": {
        "colab": {
          "base_uri": "https://localhost:8080/"
        },
        "id": "3Wr0NBuadNWd",
        "outputId": "85053dec-d538-415c-b547-37a0d4523e79"
      },
      "outputs": [
        {
          "output_type": "stream",
          "name": "stdout",
          "text": [
            "Mounted at /content/drive\n"
          ]
        }
      ],
      "source": [
        "from google.colab import drive\n",
        "drive.mount('/content/drive')"
      ]
    },
    {
      "cell_type": "code",
      "execution_count": null,
      "metadata": {
        "id": "4bbfYwYuclQP"
      },
      "outputs": [],
      "source": [
        "cloudpath = '/content/drive/MyDrive/cloud/assignment3'"
      ]
    },
    {
      "cell_type": "code",
      "execution_count": null,
      "metadata": {
        "id": "-5tRIutq51wb"
      },
      "outputs": [],
      "source": [
        "from pyspark.ml.feature import VectorAssembler\n",
        "from pyspark.ml.regression import LinearRegression\n",
        "from pyspark.sql.types import IntegerType\n",
        "from pyspark.sql.functions import concat, col, lit, to_timestamp, unix_timestamp"
      ]
    },
    {
      "cell_type": "code",
      "execution_count": null,
      "metadata": {
        "colab": {
          "base_uri": "https://localhost:8080/"
        },
        "id": "nKD8TcNzL74q",
        "outputId": "8425a240-d1d7-4f60-ed57-788e90c0386a"
      },
      "outputs": [
        {
          "output_type": "stream",
          "name": "stdout",
          "text": [
            "+-----------+-----------+------------+------------+--------+----+-----+-------------------+-------------------+--------+\n",
            "|pickup_date|pickup_time|dropoff_date|dropoff_time|distance| tip| fare|   pickup_timestamp|  dropoff_timestamp|duration|\n",
            "+-----------+-----------+------------+------------+--------+----+-----+-------------------+-------------------+--------+\n",
            "|   1/1/2017|       0:00|    1/1/2017|        0:00|    0.02| 0.0| 52.8|2017-01-01 00:00:00|2017-01-01 00:00:00|       0|\n",
            "|   1/1/2017|       0:00|    1/1/2017|        0:03|     0.5| 0.0|  5.3|2017-01-01 00:00:00|2017-01-01 00:03:00|       3|\n",
            "|   1/1/2017|       0:00|    1/1/2017|        0:39|    7.75|4.66|27.96|2017-01-01 00:00:00|2017-01-01 00:39:00|      39|\n",
            "|   1/1/2017|       0:00|    1/1/2017|        0:06|     0.8|1.45| 8.75|2017-01-01 00:00:00|2017-01-01 00:06:00|       6|\n",
            "|   1/1/2017|       0:00|    1/1/2017|        0:08|     0.9| 0.0|  8.3|2017-01-01 00:00:00|2017-01-01 00:08:00|       8|\n",
            "+-----------+-----------+------------+------------+--------+----+-----+-------------------+-------------------+--------+\n",
            "only showing top 5 rows\n",
            "\n"
          ]
        }
      ],
      "source": [
        "#data loading, timestamp crrating and dropoff......\n",
        "taxi_data_main = spark.read.csv(f'{cloudpath}/nyc_taxi.csv', header=True, inferSchema=True)\n",
        "taxi_data_main = taxi_data_main.withColumn('pickup_timestamp', to_timestamp(concat(col('pickup_date'), lit(' '), col('pickup_time')), 'M/d/yyyy H:mm'))\n",
        "taxi_data_main = taxi_data_main.withColumn('dropoff_timestamp', to_timestamp(concat(col('dropoff_date'), lit(' '), col('dropoff_time')), 'M/d/yyyy H:mm'))\n",
        "taxi_data_main = taxi_data_main.withColumn('duration', ((unix_timestamp(col('dropoff_timestamp'), 'yyyy-MM-dd HH:MM:SS')-unix_timestamp(col('pickup_timestamp'), 'yyyy-MM-dd HHMM:SS'))/60).cast(IntegerType()))\n",
        "taxi_data_main.show(5)"
      ]
    },
    {
      "cell_type": "markdown",
      "metadata": {
        "id": "Y8GX19CAN4TW"
      },
      "source": [
        "Q1 Using Spark MLlib build a model to predict taxi fare from trip distance (Model: M1)"
      ]
    },
    {
      "cell_type": "code",
      "execution_count": null,
      "metadata": {
        "colab": {
          "base_uri": "https://localhost:8080/"
        },
        "id": "Yy-GGTSPCaDC",
        "outputId": "f04b6e85-ca59-4592-c5d4-f3fed5a254ee"
      },
      "outputs": [
        {
          "output_type": "stream",
          "name": "stdout",
          "text": [
            "+-----------+-----------+------------+------------+--------+----+----+-------------------+-------------------+--------+--------+------------------+\n",
            "|pickup_date|pickup_time|dropoff_date|dropoff_time|distance| tip|fare|   pickup_timestamp|  dropoff_timestamp|duration|features|        prediction|\n",
            "+-----------+-----------+------------+------------+--------+----+----+-------------------+-------------------+--------+--------+------------------+\n",
            "|   1/1/2017|       0:00|    1/1/2017|        0:01|     0.1| 0.0| 4.3|2017-01-01 00:00:00|2017-01-01 00:01:00|       1|   [0.1]| 7.244393569177446|\n",
            "|   1/1/2017|       0:00|    1/1/2017|        0:01|    0.41|0.72|5.52|2017-01-01 00:00:00|2017-01-01 00:01:00|       1|  [0.41]| 8.212508013817123|\n",
            "|   1/1/2017|       0:00|    1/1/2017|        0:06|    0.79|1.82|9.12|2017-01-01 00:00:00|2017-01-01 00:06:00|       6|  [0.79]|  9.39922894595608|\n",
            "|   1/1/2017|       0:00|    1/1/2017|        0:07|    0.65| 1.7| 9.5|2017-01-01 00:00:00|2017-01-01 00:07:00|       7|  [0.65]| 8.962015970957518|\n",
            "|   1/1/2017|       0:00|    1/1/2017|        0:07|    1.09| 0.0| 8.3|2017-01-01 00:00:00|2017-01-01 00:07:00|       7|  [1.09]|10.336113892381576|\n",
            "+-----------+-----------+------------+------------+--------+----+----+-------------------+-------------------+--------+--------+------------------+\n",
            "only showing top 5 rows\n",
            "\n"
          ]
        }
      ],
      "source": [
        "#vector creation . . . .\n",
        "\n",
        "assembler = VectorAssembler(inputCols=[\"distance\"], outputCol=\"features\")\n",
        "taxi_data = assembler.transform(taxi_data_main)\n",
        "\n",
        "(training_data, testing_data) = taxi_data.randomSplit([0.7, 0.3], seed=29)\n",
        "lr = LinearRegression(featuresCol=\"features\", labelCol=\"fare\")\n",
        "model1 = lr.fit(training_data)\n",
        "\n",
        "predictions = model1.transform(testing_data)\n",
        "predictions.show(5)"
      ]
    },
    {
      "cell_type": "code",
      "execution_count": null,
      "metadata": {
        "colab": {
          "base_uri": "https://localhost:8080/"
        },
        "id": "QSMV7YrOC3SS",
        "outputId": "f5d9cb83-e219-4d18-d901-9ab5a9dc076a"
      },
      "outputs": [
        {
          "output_type": "stream",
          "name": "stdout",
          "text": [
            "Root Mean Squared Error: 526.0583604767365\n"
          ]
        }
      ],
      "source": [
        "from pyspark.ml.regression import LinearRegression\n",
        "from pyspark.ml.feature import VectorAssembler\n",
        "from pyspark.ml.feature import StandardScaler\n",
        "from pyspark.ml import Pipeline\n",
        "from pyspark.ml.tuning import ParamGridBuilder, CrossValidator\n",
        "from pyspark.ml.evaluation import RegressionEvaluator\n",
        "from pyspark.sql.functions import hour, minute\n",
        "\n",
        "# Feature engg. . . . .\n",
        "taxi_data_main = taxi_data_main.withColumn('hour_of_day_pickup', hour(col('pickup_time')))\n",
        "taxi_data_main = taxi_data_main.withColumn('minute_of_hour_pickup', minute(col('pickup_time')))\n",
        "taxi_data_main = taxi_data_main.withColumn('hour_of_day_dropoff', hour(col('dropoff_time')))\n",
        "taxi_data_main = taxi_data_main.withColumn('minute_of_hour_dropoff', minute(col('dropoff_time')))\n",
        "\n",
        "#  feature columns. . . .\n",
        "feature_columns = [\"distance\", \"hour_of_day_pickup\", \"minute_of_hour_pickup\", \"hour_of_day_dropoff\", \"minute_of_hour_dropoff\", \"fare\"]\n",
        "\n",
        "# Vector Assembler. . . .\n",
        "assembler = VectorAssembler(inputCols=feature_columns[:-1], outputCol=\"raw_features\")\n",
        "scaler = StandardScaler(inputCol=\"raw_features\", outputCol=\"features\", withStd=True, withMean=True)\n",
        "\n",
        "# Linear R Model. . . .\n",
        "lr = LinearRegression(featuresCol=\"features\", labelCol=\"fare\")\n",
        "\n",
        "\n",
        "pipeline = Pipeline(stages=[assembler, scaler, lr])\n",
        "\n",
        "# Param Grid for Hyperparameter Tuning. . . . .\n",
        "paramGrid = ParamGridBuilder() \\\n",
        "    .addGrid(lr.regParam, [0.01, 0.1, 1.0]) \\\n",
        "    .addGrid(lr.elasticNetParam, [0.0, 0.5, 1.0]) \\\n",
        "    .build()\n",
        "\n",
        "# Cross-Validation. . . . .\n",
        "crossval = CrossValidator(estimator=pipeline,\n",
        "                          estimatorParamMaps=paramGrid,\n",
        "                          evaluator=RegressionEvaluator(labelCol=\"fare\", predictionCol=\"prediction\", metricName=\"rmse\"),\n",
        "                          numFolds=3)\n",
        "\n",
        "#training data. . . .\n",
        "cvModel = crossval.fit(taxi_data_main)\n",
        "\n",
        "predictions = cvModel.transform(taxi_data_main)\n",
        "\n",
        "# Create the evaluator\n",
        "evaluator = RegressionEvaluator(labelCol=\"fare\", predictionCol=\"prediction\", metricName=\"rmse\")\n",
        "\n",
        "# Evaluate the model. . . .\n",
        "rmse = evaluator.evaluate(predictions)\n",
        "print(\"Root Mean Squared Error:\", rmse)"
      ]
    },
    {
      "cell_type": "markdown",
      "metadata": {
        "id": "_ZB8mntuOuyY"
      },
      "source": [
        "Q2 Using Spark MLlib build a model to predict taxi fare from trip distance and trip duration in minutes (Model: M2). M2 will have two features\n",
        "\n",
        "What is the fare of a 20 mile long trip using M1\n",
        "\n",
        "What is the fare of a 14 mile trip that took 75 minutes using M2\n",
        "\n",
        "Which fare is higher 10 mile trip taking 40 min or 13 mile trip taking 25 min?\n",
        "Use M2 to answer this question"
      ]
    },
    {
      "cell_type": "code",
      "execution_count": null,
      "metadata": {
        "colab": {
          "base_uri": "https://localhost:8080/"
        },
        "id": "drc-FMD2D59a",
        "outputId": "408b7d6e-9914-4288-a8b7-175e2bf75443"
      },
      "outputs": [
        {
          "output_type": "stream",
          "name": "stdout",
          "text": [
            "Root Mean Squared Error: 6.097568036503722\n"
          ]
        }
      ],
      "source": [
        "assembler = VectorAssembler(inputCols=[\"distance\", \"duration\"], outputCol=\"features\")\n",
        "taxi_data = assembler.transform(taxi_data_main)\n",
        "(training_data, testing_data) = taxi_data.randomSplit([0.7, 0.3], seed=29)\n",
        "\n",
        "lr = LinearRegression(featuresCol=\"features\", labelCol=\"fare\")\n",
        "model2 = lr.fit(training_data)\n",
        "\n",
        "\n",
        "predictions = model2.transform(testing_data)\n",
        "\n",
        "evaluator = RegressionEvaluator(labelCol=\"fare\", predictionCol=\"prediction\", metricName=\"rmse\")\n",
        "rmse = evaluator.evaluate(predictions)\n",
        "print(\"Root Mean Squared Error:\", rmse)"
      ]
    },
    {
      "cell_type": "markdown",
      "metadata": {
        "id": "IBxk27agUqim"
      },
      "source": [
        "fare for 20 miles trip by using m1......"
      ]
    },
    {
      "cell_type": "code",
      "execution_count": null,
      "metadata": {
        "colab": {
          "base_uri": "https://localhost:8080/"
        },
        "id": "pW0npw6oPMKU",
        "outputId": "646f2ef3-b1c7-4169-c790-5c9ec37a0f95"
      },
      "outputs": [
        {
          "output_type": "stream",
          "name": "stdout",
          "text": [
            "the fare of a 20 mile long trip using model M1 is 69.39\n"
          ]
        }
      ],
      "source": [
        "from pyspark.ml.linalg import Vectors\n",
        "#fare of a 20 mile long trip using M1. . . . . . .\n",
        "fare = model1.predict(Vectors.dense([[20]]))\n",
        "formatted_fare1=round(fare, 2)\n",
        "print(\"the fare of a 20 mile long trip using model M1 is\", formatted_fare1)"
      ]
    },
    {
      "cell_type": "markdown",
      "metadata": {
        "id": "hJauYNjjU1Fi"
      },
      "source": [
        "fare for 14 miles trip for 75 minutes using m2. . ."
      ]
    },
    {
      "cell_type": "code",
      "execution_count": null,
      "metadata": {
        "colab": {
          "base_uri": "https://localhost:8080/"
        },
        "id": "bF-Kp455PV7Y",
        "outputId": "31f0c889-5e86-47c3-8127-e140d2c42dac"
      },
      "outputs": [
        {
          "output_type": "stream",
          "name": "stdout",
          "text": [
            "Fare of 14-mile trip with M2: 51.06\n"
          ]
        }
      ],
      "source": [
        "fare = model2.predict(Vectors.dense([14, 75]))\n",
        "\n",
        "formatted_fare = round(fare, 2)\n",
        "\n",
        "print(\"Fare of 14-mile trip with M2:\", formatted_fare)\n"
      ]
    },
    {
      "cell_type": "markdown",
      "metadata": {
        "id": "98HKf-LCVBg5"
      },
      "source": [
        "Which fare is higher 10 mile trip taking 40 min or 13 mile trip taking 25 min?"
      ]
    },
    {
      "cell_type": "code",
      "execution_count": null,
      "metadata": {
        "colab": {
          "base_uri": "https://localhost:8080/"
        },
        "id": "fndxPQbDPcZM",
        "outputId": "1a4bf1e2-c5f5-4262-bd00-6463323a6a06"
      },
      "outputs": [
        {
          "output_type": "stream",
          "name": "stdout",
          "text": [
            "Fare for 13-mile trip taking 25 minutes is higher\n"
          ]
        }
      ],
      "source": [
        "First_fare = model2.predict(Vectors.dense([[10, 40]]))\n",
        "Second_Fare = model2.predict(Vectors.dense([[13, 25]]))\n",
        "\n",
        "if First_fare > Second_Fare:\n",
        "    print(\"Fare for 10-mile trip taking 40 minutes is higher\")\n",
        "else:\n",
        "    print(\"Fare for 13-mile trip taking 25 minutes is higher\")"
      ]
    },
    {
      "cell_type": "markdown",
      "metadata": {
        "id": "uy2tAmnEVWzF"
      },
      "source": [
        "average tip amount"
      ]
    },
    {
      "cell_type": "code",
      "execution_count": null,
      "metadata": {
        "colab": {
          "base_uri": "https://localhost:8080/"
        },
        "id": "o4uyW28UQ3f3",
        "outputId": "ff4d50c2-3444-4b86-9b7f-01a7017ddc1f"
      },
      "outputs": [
        {
          "output_type": "stream",
          "name": "stdout",
          "text": [
            "Average tip amount: 1.699\n"
          ]
        }
      ],
      "source": [
        "average_tip = taxi_data_main.agg({\"tip\": \"avg\"}).collect()[0][0]\n",
        "\n",
        "formatted_average_tip = round(average_tip, 3)\n",
        "\n",
        "print(\"Average tip amount:\", formatted_average_tip)\n"
      ]
    },
    {
      "cell_type": "markdown",
      "metadata": {
        "id": "3Va0wv6nVoWE"
      },
      "source": [
        "During which hour the city experiences the most number of trips?"
      ]
    },
    {
      "cell_type": "code",
      "execution_count": null,
      "metadata": {
        "colab": {
          "base_uri": "https://localhost:8080/"
        },
        "id": "d25P83fsRMI5",
        "outputId": "d1c0fefc-227d-44dc-b79e-5e7da75139cc"
      },
      "outputs": [
        {
          "output_type": "stream",
          "name": "stdout",
          "text": [
            "The most number of trips occur during hour 5 PM\n"
          ]
        }
      ],
      "source": [
        "from pyspark.sql.functions import hour\n",
        "\n",
        "# Extract the hour from the pickup time\n",
        "taxi_data = taxi_data_main.withColumn(\"pickup_hour\", hour(\"pickup_time\"))\n",
        "\n",
        "# Group the data by pickup hour. . . .\n",
        "hourly_trip_counts = taxi_data.groupBy(\"pickup_hour\").count()\n",
        "\n",
        "sorted_hourly_trip_counts = hourly_trip_counts.sort(\"count\", ascending=False)\n",
        "\n",
        "most_busy_hour = sorted_hourly_trip_counts.first()[\"pickup_hour\"]\n",
        "\n",
        "# Convert to AM/PM format\n",
        "if most_busy_hour >= 12:\n",
        "    am_pm = \"PM\"\n",
        "    most_busy_hour = most_busy_hour - 12 if most_busy_hour > 12 else most_busy_hour\n",
        "else:\n",
        "    am_pm = \"AM\"\n",
        "\n",
        "print(\"The most number of trips occur during hour\", most_busy_hour, am_pm)\n"
      ]
    },
    {
      "cell_type": "markdown",
      "metadata": {
        "id": "nVpUI2feVv5B"
      },
      "source": [
        "Compare Spark’s performance\n",
        "Divide the data into 10 parts: 10%, 20%, …, 100%\n",
        "Plot of time taken by M2 model"
      ]
    },
    {
      "cell_type": "code",
      "source": [],
      "metadata": {
        "id": "LP6lPkIJbzKA"
      },
      "execution_count": null,
      "outputs": []
    },
    {
      "cell_type": "code",
      "execution_count": null,
      "metadata": {
        "colab": {
          "base_uri": "https://localhost:8080/",
          "height": 472
        },
        "id": "6eUuTtLDSSMT",
        "outputId": "de0e8402-2c6c-4020-ece4-f2fce3c4d444"
      },
      "outputs": [
        {
          "output_type": "display_data",
          "data": {
            "text/plain": [
              "<Figure size 640x480 with 1 Axes>"
            ],
            "image/png": "[encoded data removed]"
          },
          "metadata": {}
        }
      ],
      "source": [
        "import time\n",
        "import matplotlib.pyplot as plt\n",
        "\n",
        "# Defining a list of percentages. . . . .\n",
        "percentages = [10, 20, 30, 40, 50, 60, 70, 80, 90, 100]\n",
        "\n",
        "# Define the operation to time..  . . .\n",
        "def hours_count(data):\n",
        "    data = data.withColumn('pickup_hour', hour('pickup_time'))\n",
        "    hourly_trip_counts = data.groupBy('pickup_hour').count()\n",
        "    sorted_hourly_trip_counts = hourly_trip_counts.sort('count', ascending=False)\n",
        "    return sorted_hourly_trip_counts.first()['count']\n",
        "\n",
        "times = []\n",
        "\n",
        "for p in percentages:\n",
        "    subset = taxi_data_main.limit(int(taxi_data_main.count() * p / 100))\n",
        "    start_time = time.time()\n",
        "    hours_count(subset)\n",
        "    end_time = time.time()\n",
        "    times.append(end_time - start_time)\n",
        "\n",
        "# Plot the results. . . . . . . . . .\n",
        "plt.plot(percentages, times, color= 'red' )\n",
        "plt.title('Comparison of Spark Performance')\n",
        "plt.xlabel('Data Subset Size')\n",
        "plt.ylabel('Time in Seconds')\n",
        "plt.show()\n"
      ]
    },
    {
      "cell_type": "code",
      "source": [
        "execution_times = []\n",
        "\n",
        "for percentage in range(10, 110, 10):\n",
        "    num_rows = int(taxi_data_main.count() * percentage / 100)\n",
        "\n",
        "    subset_data = taxi_data_main.limit(num_rows)\n",
        "\n",
        "    start_time = time.time()\n",
        "\n",
        "    subset_data = subset_data.withColumn('hour_of_day_pickup', hour(col('pickup_time')))\n",
        "    subset_data = subset_data.withColumn('minute_of_hour_pickup', minute(col('pickup_time')))\n",
        "    subset_data = subset_data.withColumn('hour_of_day_dropoff', hour(col('dropoff_time')))\n",
        "    subset_data = subset_data.withColumn('minute_of_hour_dropoff', minute(col('dropoff_time')))\n",
        "\n",
        "    feature_columns = [\"distance\", \"hour_of_day_pickup\", \"minute_of_hour_pickup\", \"hour_of_day_dropoff\", \"minute_of_hour_dropoff\", \"fare\"]\n",
        "\n",
        "    assembler = VectorAssembler(inputCols=feature_columns[:-1], outputCol=\"raw_features\")\n",
        "    scaler = StandardScaler(inputCol=\"raw_features\", outputCol=\"features\", withStd=True, withMean=True)\n",
        "\n",
        "    lr = LinearRegression(featuresCol=\"features\", labelCol=\"fare\")\n",
        "\n",
        "    pipeline = Pipeline(stages=[assembler, scaler, lr])\n",
        "\n",
        "    paramGrid = ParamGridBuilder() \\\n",
        "        .addGrid(lr.regParam, [0.01, 0.1, 1.0]) \\\n",
        "        .addGrid(lr.elasticNetParam, [0.0, 0.5, 1.0]) \\\n",
        "        .build()\n",
        "\n",
        "    crossval = CrossValidator(estimator=pipeline,\n",
        "                              estimatorParamMaps=paramGrid,\n",
        "                              evaluator=RegressionEvaluator(labelCol=\"fare\", predictionCol=\"prediction\", metricName=\"rmse\"),\n",
        "                              numFolds=3)\n",
        "\n",
        "    cvModel = crossval.fit(subset_data)\n",
        "\n",
        "    predictions = cvModel.transform(subset_data)\n",
        "    evaluator = RegressionEvaluator(labelCol=\"fare\", predictionCol=\"prediction\", metricName=\"rmse\")\n",
        "    rmse = evaluator.evaluate(predictions)\n",
        "    print(f\"Percentage: {percentage}%, RMSE: {rmse}\")\n",
        "\n",
        "    end_time = time.time()\n",
        "\n",
        "    execution_time = end_time - start_time\n",
        "    execution_times.append(execution_time)\n",
        "\n",
        "execution_times_df = pd.DataFrame({'Percentage': range(10, 110, 10), 'Execution Time (seconds)': execution_times})\n"
      ],
      "metadata": {
        "colab": {
          "base_uri": "https://localhost:8080/"
        },
        "id": "J3FMYqnsZegk",
        "outputId": "20103c66-88a8-4ca3-b008-f348dee9aa77"
      },
      "execution_count": null,
      "outputs": [
        {
          "output_type": "stream",
          "name": "stdout",
          "text": [
            "Percentage: 10%, RMSE: 6.338921084362688\n",
            "Percentage: 20%, RMSE: 1176.0676362203012\n",
            "Percentage: 30%, RMSE: 960.2651891087331\n",
            "Percentage: 40%, RMSE: 831.622572081671\n",
            "Percentage: 50%, RMSE: 743.9347376263997\n",
            "Percentage: 60%, RMSE: 679.1212507083025\n",
            "Percentage: 70%, RMSE: 628.7483763662713\n",
            "Percentage: 80%, RMSE: 588.144279836438\n",
            "Percentage: 90%, RMSE: 554.509144520808\n",
            "Percentage: 100%, RMSE: 526.0583604767363\n"
          ]
        }
      ]
    },
    {
      "cell_type": "markdown",
      "source": [
        "Time Taken by M1 model . . . ."
      ],
      "metadata": {
        "id": "Q0q8UjpJmW6D"
      }
    },
    {
      "cell_type": "code",
      "source": [
        "import time\n",
        "import pandas as pd\n",
        "\n",
        "execution_times = []\n",
        "\n",
        "for percentage in range(10, 110, 10):\n",
        "    num_rows = int(taxi_data_main.count() * percentage / 100)\n",
        "\n",
        "    subset_data = taxi_data_main.limit(num_rows)\n",
        "\n",
        "    # Record start time\n",
        "    start_time = time.time()\n",
        "\n",
        "\n",
        "    # Record end time\n",
        "    end_time = time.time()\n",
        "\n",
        "    execution_time = end_time - start_time\n",
        "    execution_times.append(execution_time)\n",
        "\n",
        "execution_times_df = pd.DataFrame({'Percentage': range(10, 110, 10), 'Execution Time (seconds)': execution_times})\n",
        "\n",
        "import matplotlib.pyplot as plt\n",
        "\n",
        "plt.plot(execution_times_df['Percentage'], execution_times_df['Execution Time (seconds)'])\n",
        "plt.xlabel('Percentage of Data')\n",
        "plt.ylabel('Execution Time (seconds)')\n",
        "plt.title('Execution Time vs. Percentage of Data')\n",
        "plt.show()\n"
      ],
      "metadata": {
        "colab": {
          "base_uri": "https://localhost:8080/",
          "height": 472
        },
        "id": "o7pY5sEhkBnm",
        "outputId": "cb513a40-0ca8-428a-9467-77082e29cf0c"
      },
      "execution_count": null,
      "outputs": [
        {
          "output_type": "display_data",
          "data": {
            "text/plain": [
              "<Figure size 640x480 with 1 Axes>"
            ],
            "image/png": "[encoded data removed]"
          },
          "metadata": {}
        }
      ]
    }
  ],
  "metadata": {
    "colab": {
      "provenance": []
    },
    "kernelspec": {
      "display_name": "Python 3",
      "name": "python3"
    },
    "language_info": {
      "name": "python"
    }
  },
  "nbformat": 4,
  "nbformat_minor": 0
}